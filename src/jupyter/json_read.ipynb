{
 "cells": [
  {
   "cell_type": "code",
   "execution_count": 1,
   "id": "9865af26-ef9e-450e-b5cb-1ac7335987ba",
   "metadata": {},
   "outputs": [
    {
     "name": "stderr",
     "output_type": "stream",
     "text": [
      "Setting default log level to \"WARN\".\n",
      "To adjust logging level use sc.setLogLevel(newLevel). For SparkR, use setLogLevel(newLevel).\n"
     ]
    },
    {
     "name": "stdout",
     "output_type": "stream",
     "text": [
      "23/09/19 15:38:58 WARN NativeCodeLoader: Unable to load native-hadoop library for your platform... using builtin-java classes where applicable\n"
     ]
    }
   ],
   "source": [
    "from pyspark.sql import SparkSession\n",
    "from pyspark.sql.functions import lit, col\n",
    "\n",
    "spark = (\n",
    "    SparkSession.builder.appName(\"Json_processing_hdfs\")\n",
    "    .master(\"spark://spark-master:7077\")\n",
    "    .config(\"spark.executor.memory\", \"512m\")\n",
    "    .getOrCreate()\n",
    ")\n",
    "\n",
    "# spark = (\n",
    "#     SparkSession.builder.appName(\"Hudi_Data_Processing_Framework\")\n",
    "#     .master(\"spark://spark-master:7077\")\n",
    "#     .config(\"spark.executor.memory\", \"512m\")\n",
    "#     .config(\"fs.default.name\", \"hdfs://namenode:9000\")\n",
    "#     .config(\"spark.serializer\", \"org.apache.spark.serializer.KryoSerializer\")\n",
    "#     .config(\"spark.sql.catalog.spark_catalog\",\"org.apache.spark.sql.hudi.catalog.HoodieCatalog\")\n",
    "#     .config(\"spark.sql.extensions\",\"org.apache.spark.sql.hudi.HoodieSparkSessionExtension\")\n",
    "#     .config(\n",
    "#         \"spark.jars.packages\",\n",
    "#         \"org.apache.hudi:hudi-spark3.3-bundle_2.12:0.13.1\"\n",
    "#     )\n",
    "#     .getOrCreate()\n",
    "# )\n",
    "\n",
    "spark.sparkContext.setLogLevel('ERROR')"
   ]
  },
  {
   "cell_type": "code",
   "execution_count": 2,
   "id": "9d0d497d-e2ba-42ac-8e08-a82e67dc85c8",
   "metadata": {},
   "outputs": [],
   "source": [
    "tableName = \"person.json\"\n",
    "basePath = f\"hdfs://namenode:9000/user/nifi/my_folder/{tableName}\""
   ]
  },
  {
   "cell_type": "code",
   "execution_count": 3,
   "id": "edc8ff3d-547d-4f63-bcb4-fc8696a19637",
   "metadata": {},
   "outputs": [
    {
     "name": "stderr",
     "output_type": "stream",
     "text": [
      "[Stage 1:>                                                          (0 + 1) / 1]\r"
     ]
    },
    {
     "name": "stdout",
     "output_type": "stream",
     "text": [
      "+---+------+\n",
      "|Age|  Name|\n",
      "+---+------+\n",
      "| 28|Thomas|\n",
      "+---+------+\n",
      "\n"
     ]
    },
    {
     "name": "stderr",
     "output_type": "stream",
     "text": [
      "                                                                                \r"
     ]
    }
   ],
   "source": [
    "df = spark.read.json(basePath)\n",
    "df.show()"
   ]
  },
  {
   "cell_type": "code",
   "execution_count": 4,
   "id": "b99a1020-3510-4d28-a394-3477af044966",
   "metadata": {},
   "outputs": [
    {
     "name": "stderr",
     "output_type": "stream",
     "text": [
      "                                                                                \r"
     ]
    }
   ],
   "source": [
    "outPath = f\"hdfs://namenode:9000/datalake/landing/manual/{tableName}\"\n",
    "df.repartition(1).write.mode(\"overwrite\").parquet(outPath)"
   ]
  }
 ],
 "metadata": {
  "kernelspec": {
   "display_name": "Python 3 (ipykernel)",
   "language": "python",
   "name": "python3"
  },
  "language_info": {
   "codemirror_mode": {
    "name": "ipython",
    "version": 3
   },
   "file_extension": ".py",
   "mimetype": "text/x-python",
   "name": "python",
   "nbconvert_exporter": "python",
   "pygments_lexer": "ipython3",
   "version": "3.9.18"
  }
 },
 "nbformat": 4,
 "nbformat_minor": 5
}
