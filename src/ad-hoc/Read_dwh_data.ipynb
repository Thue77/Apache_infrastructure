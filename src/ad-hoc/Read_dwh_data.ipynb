{
 "cells": [
  {
   "cell_type": "code",
   "execution_count": 1,
   "id": "e5fd7293-5f2c-4d35-84d3-a4feb87c4614",
   "metadata": {},
   "outputs": [
    {
     "ename": "ImportError",
     "evalue": "cannot import name 'DWHColumns' from 'cdk.common_modules.utility.dwh_columns' (/opt/workspace/scripts/cdk/common_modules/utility/dwh_columns.py)",
     "output_type": "error",
     "traceback": [
      "\u001b[0;31m---------------------------------------------------------------------------\u001b[0m",
      "\u001b[0;31mImportError\u001b[0m                               Traceback (most recent call last)",
      "Cell \u001b[0;32mIn[1], line 7\u001b[0m\n\u001b[1;32m      5\u001b[0m \u001b[38;5;28;01mfrom\u001b[39;00m \u001b[38;5;21;01mcdk\u001b[39;00m\u001b[38;5;21;01m.\u001b[39;00m\u001b[38;5;21;01mcommon_modules\u001b[39;00m\u001b[38;5;21;01m.\u001b[39;00m\u001b[38;5;21;01mspark\u001b[39;00m\u001b[38;5;21;01m.\u001b[39;00m\u001b[38;5;21;01mspark_config\u001b[39;00m \u001b[38;5;28;01mimport\u001b[39;00m SparkConfig\n\u001b[1;32m      6\u001b[0m \u001b[38;5;28;01mfrom\u001b[39;00m \u001b[38;5;21;01mcdk\u001b[39;00m\u001b[38;5;21;01m.\u001b[39;00m\u001b[38;5;21;01mcommon_modules\u001b[39;00m\u001b[38;5;21;01m.\u001b[39;00m\u001b[38;5;21;01mspark\u001b[39;00m\u001b[38;5;21;01m.\u001b[39;00m\u001b[38;5;21;01mspark_session_builder\u001b[39;00m \u001b[38;5;28;01mimport\u001b[39;00m SparkSessionBuilder\n\u001b[0;32m----> 7\u001b[0m \u001b[38;5;28;01mfrom\u001b[39;00m \u001b[38;5;21;01mcdk\u001b[39;00m\u001b[38;5;21;01m.\u001b[39;00m\u001b[38;5;21;01mcommon_modules\u001b[39;00m\u001b[38;5;21;01m.\u001b[39;00m\u001b[38;5;21;01mutility\u001b[39;00m\u001b[38;5;21;01m.\u001b[39;00m\u001b[38;5;21;01mdwh_columns\u001b[39;00m \u001b[38;5;28;01mimport\u001b[39;00m DWHColumns \n\u001b[1;32m      9\u001b[0m storage_account_name \u001b[38;5;241m=\u001b[39m \u001b[38;5;124m\"\u001b[39m\u001b[38;5;124madlsthuehomelakehousedev\u001b[39m\u001b[38;5;124m\"\u001b[39m\n\u001b[1;32m     11\u001b[0m \u001b[38;5;66;03m# Set Spark configurations\u001b[39;00m\n",
      "\u001b[0;31mImportError\u001b[0m: cannot import name 'DWHColumns' from 'cdk.common_modules.utility.dwh_columns' (/opt/workspace/scripts/cdk/common_modules/utility/dwh_columns.py)"
     ]
    }
   ],
   "source": [
    "import pyspark.sql.functions as F\n",
    "import json\n",
    "from cdk.services.api.energi_data_service import EnergiDataService\n",
    "from cdk.common_modules.access.secrets import Secrets\n",
    "from cdk.common_modules.spark.spark_config import SparkConfig\n",
    "from cdk.common_modules.spark.spark_session_builder import SparkSessionBuilder\n",
    "from cdk.common_modules.utility.dwh_columns import DWHColumns \n",
    "\n",
    "storage_account_name = \"adlsthuehomelakehousedev\"\n",
    "\n",
    "# Set Spark configurations\n",
    "spark_config = SparkConfig(Secrets())\n",
    "\n",
    "# Add jars to install\n",
    "spark_config.add_jars_to_install(['hudi', 'azure_storage', 'delta'])\n",
    "\n",
    "# Add storage account access\n",
    "spark_config.add_storage_account_access(storage_account_name, method='access_key')\n",
    "\n",
    "# Build SparkSession\n",
    "spark = SparkSessionBuilder(\"ViewAzureData\", spark_config).build()\n"
   ]
  },
  {
   "cell_type": "code",
   "execution_count": 2,
   "id": "781facba-5fc0-4c8d-83fc-806e303c7af5",
   "metadata": {},
   "outputs": [],
   "source": [
    "dataset_name = \"stock_transactions\"\n",
    "dataset_path = f\"nordea\"#/20231210/{dataset_name}\"\n",
    "container_name = \"landing\"\n",
    "destination_container_name = \"bronze\"\n",
    "\n",
    "# landing_path = f\"hdfs://namenode:9000/data/landing/energi_data_service/{dataset_name}\"\n",
    "landing_path = f\"abfss://{container_name}@{storage_account_name}.dfs.core.windows.net/{dataset_path}\"\n",
    "bronze_path = f\"abfss://{destination_container_name}@{storage_account_name}.dfs.core.windows.net/{dataset_path}/{dataset_name}\"\n",
    "\n"
   ]
  },
  {
   "cell_type": "code",
   "execution_count": 5,
   "id": "29ca242b",
   "metadata": {},
   "outputs": [
    {
     "name": "stderr",
     "output_type": "stream",
     "text": [
      "                                                                                \r"
     ]
    },
    {
     "name": "stdout",
     "output_type": "stream",
     "text": [
      "+------+--------------------+-------------+----------------+-----+------------+----+----+-----+---+----------+\n",
      "|Status|     Instrument navn|Opdateret den|Transaktionstype|Antal|       Total| _c6|year|month|day|      date|\n",
      "+------+--------------------+-------------+----------------+-----+------------+----+----+-----+---+----------+\n",
      "|Udført|      A/s Jyske Bank|   06-12-2023|         Udbytte|  0.0|  101,14 DKK|null|2023|   12| 10|2023-12-10|\n",
      "|Udført|    TORM plc A Aktie|   05-12-2023|         Udbytte|  0.0|  279,72 DKK|null|2023|   12| 10|2023-12-10|\n",
      "|Udført|Meta Platforms Inc A|   05-12-2023|            Sælg|  2.0|4.373,11 DKK|null|2023|   12| 10|2023-12-10|\n",
      "|Udført|      Microsoft Corp|   04-12-2023|            Sælg|  2.0|5.142,21 DKK|null|2023|   12| 10|2023-12-10|\n",
      "|Udført|          D/S Norden|   28-11-2023|             Køb| 13.0|4.272,20 DKK|null|2023|   12| 10|2023-12-10|\n",
      "|Udført|       Royal UNIBREW|   27-11-2023|             Køb| 10.0|4.633,00 DKK|null|2023|   12| 10|2023-12-10|\n",
      "|Udført|            IONQ Inc|   27-11-2023|             Køb|  2.0|  174,84 DKK|null|2023|   12| 10|2023-12-10|\n",
      "|Udført|            IONQ Inc|   27-11-2023|             Køb| 67.0|5.857,65 DKK|null|2023|   12| 10|2023-12-10|\n",
      "|Udført|        Qualcomm Inc|   27-11-2023|             Køb|  7.0|6.194,00 DKK|null|2023|   12| 10|2023-12-10|\n",
      "|Udført|              TORM A|   24-11-2023|            Sælg| 28.0|6.058,20 DKK|null|2023|   12| 10|2023-12-10|\n",
      "|Udført|Dampskibsselskabe...|   07-11-2023|         Udbytte|  0.0|  150,00 DKK|null|2023|   12| 10|2023-12-10|\n",
      "|Udført|     Bavarian Nordic|   03-11-2023|             Køb| 29.0|3.922,25 DKK|null|2023|   12| 10|2023-12-10|\n",
      "|Udført|                Ambu|   17-10-2023|             Køb| 71.0|4.976,28 DKK|null|2023|   12| 10|2023-12-10|\n",
      "|Udført|                 ISS|   17-10-2023|             Køb| 37.0|3.989,85 DKK|null|2023|   12| 10|2023-12-10|\n",
      "|Udført|    Mercadolibre Inc|   17-10-2023|             Køb|  1.0|8.726,00 DKK|null|2023|   12| 10|2023-12-10|\n",
      "|Udført|       Royal UNIBREW|   17-10-2023|             Køb|  6.0|3.109,40 DKK|null|2023|   12| 10|2023-12-10|\n",
      "|Udført|          D/S Norden|   17-10-2023|             Køb| 15.0|6.467,00 DKK|null|2023|   12| 10|2023-12-10|\n",
      "|Udført|              TORM A|   17-10-2023|            Sælg| 17.0|3.394,80 DKK|null|2023|   12| 10|2023-12-10|\n",
      "|Udført|          Jyske Bank|   06-10-2023|             Køb| 13.0|6.399,00 DKK|null|2023|   12| 10|2023-12-10|\n",
      "|Udført|    TORM plc A Aktie|   12-09-2023|         Udbytte|  0.0|  470,25 DKK|null|2023|   12| 10|2023-12-10|\n",
      "+------+--------------------+-------------+----------------+-----+------------+----+----+-----+---+----------+\n",
      "only showing top 20 rows\n",
      "\n"
     ]
    },
    {
     "name": "stderr",
     "output_type": "stream",
     "text": [
      "                                                                                \r"
     ]
    }
   ],
   "source": [
    "import datetime\n",
    "df = (\n",
    "    spark.read.csv(landing_path, header=True, sep=\";\")\n",
    "    .withColumn(\"date\", F.to_date(F.concat_ws('-','year','month','day'), \"yyyy-MM-dd\"))\n",
    "    .filter((F.col(\"date\")>datetime.date(2023,12,9)))\n",
    ")\n",
    "\n",
    "df.show()"
   ]
  },
  {
   "cell_type": "code",
   "execution_count": 3,
   "id": "ea6a6bdd",
   "metadata": {},
   "outputs": [
    {
     "name": "stderr",
     "output_type": "stream",
     "text": [
      "                                                                                \r"
     ]
    },
    {
     "name": "stdout",
     "output_type": "stream",
     "text": [
      "23/12/10 21:18:12 WARN package: Truncated the string representation of a plan since it was too large. This behavior can be adjusted by setting 'spark.sql.debug.maxToStringFields'.\n"
     ]
    },
    {
     "name": "stderr",
     "output_type": "stream",
     "text": [
      "[Stage 9:>                                                          (0 + 1) / 1]\r"
     ]
    },
    {
     "name": "stdout",
     "output_type": "stream",
     "text": [
      "+------+--------------------+-------------+----------------+-----+------------+----+-----+---+----------+--------------------+\n",
      "|Status|     Instrument_navn|Opdateret_den|Transaktionstype|Antal|       Total|year|month|day|      date|       dwh_updatedAt|\n",
      "+------+--------------------+-------------+----------------+-----+------------+----+-----+---+----------+--------------------+\n",
      "|Udført|      A/s Jyske Bank|   06-12-2023|         Udbytte|  0.0|  101,14 DKK|2023|   12| 10|2023-12-10|2023-12-10 21:16:...|\n",
      "|Udført|    TORM plc A Aktie|   05-12-2023|         Udbytte|  0.0|  279,72 DKK|2023|   12| 10|2023-12-10|2023-12-10 21:16:...|\n",
      "|Udført|Meta Platforms Inc A|   05-12-2023|            Sælg|  2.0|4.373,11 DKK|2023|   12| 10|2023-12-10|2023-12-10 21:16:...|\n",
      "|Udført|      Microsoft Corp|   04-12-2023|            Sælg|  2.0|5.142,21 DKK|2023|   12| 10|2023-12-10|2023-12-10 21:16:...|\n",
      "|Udført|          D/S Norden|   28-11-2023|             Køb| 13.0|4.272,20 DKK|2023|   12| 10|2023-12-10|2023-12-10 21:16:...|\n",
      "|Udført|       Royal UNIBREW|   27-11-2023|             Køb| 10.0|4.633,00 DKK|2023|   12| 10|2023-12-10|2023-12-10 21:16:...|\n",
      "|Udført|            IONQ Inc|   27-11-2023|             Køb|  2.0|  174,84 DKK|2023|   12| 10|2023-12-10|2023-12-10 21:16:...|\n",
      "|Udført|            IONQ Inc|   27-11-2023|             Køb| 67.0|5.857,65 DKK|2023|   12| 10|2023-12-10|2023-12-10 21:16:...|\n",
      "|Udført|        Qualcomm Inc|   27-11-2023|             Køb|  7.0|6.194,00 DKK|2023|   12| 10|2023-12-10|2023-12-10 21:16:...|\n",
      "|Udført|              TORM A|   24-11-2023|            Sælg| 28.0|6.058,20 DKK|2023|   12| 10|2023-12-10|2023-12-10 21:16:...|\n",
      "|Udført|Dampskibsselskabe...|   07-11-2023|         Udbytte|  0.0|  150,00 DKK|2023|   12| 10|2023-12-10|2023-12-10 21:16:...|\n",
      "|Udført|     Bavarian Nordic|   03-11-2023|             Køb| 29.0|3.922,25 DKK|2023|   12| 10|2023-12-10|2023-12-10 21:16:...|\n",
      "|Udført|                Ambu|   17-10-2023|             Køb| 71.0|4.976,28 DKK|2023|   12| 10|2023-12-10|2023-12-10 21:16:...|\n",
      "|Udført|                 ISS|   17-10-2023|             Køb| 37.0|3.989,85 DKK|2023|   12| 10|2023-12-10|2023-12-10 21:16:...|\n",
      "|Udført|    Mercadolibre Inc|   17-10-2023|             Køb|  1.0|8.726,00 DKK|2023|   12| 10|2023-12-10|2023-12-10 21:16:...|\n",
      "|Udført|       Royal UNIBREW|   17-10-2023|             Køb|  6.0|3.109,40 DKK|2023|   12| 10|2023-12-10|2023-12-10 21:16:...|\n",
      "|Udført|          D/S Norden|   17-10-2023|             Køb| 15.0|6.467,00 DKK|2023|   12| 10|2023-12-10|2023-12-10 21:16:...|\n",
      "|Udført|              TORM A|   17-10-2023|            Sælg| 17.0|3.394,80 DKK|2023|   12| 10|2023-12-10|2023-12-10 21:16:...|\n",
      "|Udført|          Jyske Bank|   06-10-2023|             Køb| 13.0|6.399,00 DKK|2023|   12| 10|2023-12-10|2023-12-10 21:16:...|\n",
      "|Udført|    TORM plc A Aktie|   12-09-2023|         Udbytte|  0.0|  470,25 DKK|2023|   12| 10|2023-12-10|2023-12-10 21:16:...|\n",
      "+------+--------------------+-------------+----------------+-----+------------+----+-----+---+----------+--------------------+\n",
      "only showing top 20 rows\n",
      "\n"
     ]
    },
    {
     "name": "stderr",
     "output_type": "stream",
     "text": [
      "                                                                                \r"
     ]
    }
   ],
   "source": [
    "df = (\n",
    "    spark.read.format('delta').load(bronze_path)\n",
    ")\n",
    "\n",
    "df.show()"
   ]
  }
 ],
 "metadata": {
  "kernelspec": {
   "display_name": "Python 3 (ipykernel)",
   "language": "python",
   "name": "python3"
  },
  "language_info": {
   "codemirror_mode": {
    "name": "ipython",
    "version": 3
   },
   "file_extension": ".py",
   "mimetype": "text/x-python",
   "name": "python",
   "nbconvert_exporter": "python",
   "pygments_lexer": "ipython3",
   "version": "3.9.18"
  }
 },
 "nbformat": 4,
 "nbformat_minor": 5
}
