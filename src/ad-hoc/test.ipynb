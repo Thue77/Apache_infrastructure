{
 "cells": [
  {
   "cell_type": "code",
   "execution_count": 1,
   "id": "e5fd7293-5f2c-4d35-84d3-a4feb87c4614",
   "metadata": {},
   "outputs": [
    {
     "name": "stderr",
     "output_type": "stream",
     "text": [
      "INFO:root:Loading secret ADLS_adlsthuehomelakehousedev_access_key\n"
     ]
    },
    {
     "name": "stdout",
     "output_type": "stream",
     "text": [
      ":: loading settings :: url = jar:file:/opt/bitnami/python/lib/python3.9/site-packages/pyspark/jars/ivy-2.5.1.jar!/org/apache/ivy/core/settings/ivysettings.xml\n"
     ]
    },
    {
     "name": "stderr",
     "output_type": "stream",
     "text": [
      "Ivy Default Cache set to: /root/.ivy2/cache\n",
      "The jars for the packages stored in: /root/.ivy2/jars\n",
      "org.apache.hudi#hudi-spark3.3-bundle_2.12 added as a dependency\n",
      "org.apache.hadoop#hadoop-azure added as a dependency\n",
      "io.delta#delta-core_2.12 added as a dependency\n",
      ":: resolving dependencies :: org.apache.spark#spark-submit-parent-a7877af2-ce8d-43e0-9a1d-87eb5a4252b9;1.0\n",
      "\tconfs: [default]\n",
      "\tfound org.apache.hudi#hudi-spark3.3-bundle_2.12;0.13.1 in central\n",
      "\tfound org.apache.hadoop#hadoop-azure;3.3.3 in central\n",
      "\tfound org.apache.httpcomponents#httpclient;4.5.13 in central\n",
      "\tfound org.apache.httpcomponents#httpcore;4.4.13 in central\n",
      "\tfound commons-logging#commons-logging;1.1.3 in central\n",
      "\tfound commons-codec#commons-codec;1.15 in central\n",
      "\tfound com.microsoft.azure#azure-storage;7.0.1 in central\n",
      "\tfound com.fasterxml.jackson.core#jackson-core;2.13.2 in central\n",
      "\tfound org.slf4j#slf4j-api;1.7.36 in central\n",
      "\tfound com.microsoft.azure#azure-keyvault-core;1.0.0 in central\n",
      "\tfound com.google.guava#guava;27.0-jre in central\n",
      "\tfound com.google.guava#failureaccess;1.0 in central\n",
      "\tfound com.google.guava#listenablefuture;9999.0-empty-to-avoid-conflict-with-guava in central\n",
      "\tfound com.google.code.findbugs#jsr305;3.0.2 in central\n",
      "\tfound org.checkerframework#checker-qual;2.5.2 in central\n",
      "\tfound com.google.errorprone#error_prone_annotations;2.2.0 in central\n",
      "\tfound com.google.j2objc#j2objc-annotations;1.1 in central\n",
      "\tfound org.codehaus.mojo#animal-sniffer-annotations;1.17 in central\n",
      "\tfound org.apache.hadoop.thirdparty#hadoop-shaded-guava;1.1.1 in central\n",
      "\tfound org.eclipse.jetty#jetty-util-ajax;9.4.43.v20210629 in central\n",
      "\tfound org.eclipse.jetty#jetty-util;9.4.43.v20210629 in central\n",
      "\tfound org.codehaus.jackson#jackson-mapper-asl;1.9.13 in central\n",
      "\tfound org.codehaus.jackson#jackson-core-asl;1.9.13 in central\n",
      "\tfound org.wildfly.openssl#wildfly-openssl;1.0.7.Final in central\n",
      "\tfound io.delta#delta-core_2.12;2.3.0 in central\n",
      "\tfound io.delta#delta-storage;2.3.0 in central\n",
      "\tfound org.antlr#antlr4-runtime;4.8 in central\n",
      ":: resolution report :: resolve 883ms :: artifacts dl 31ms\n",
      "\t:: modules in use:\n",
      "\tcom.fasterxml.jackson.core#jackson-core;2.13.2 from central in [default]\n",
      "\tcom.google.code.findbugs#jsr305;3.0.2 from central in [default]\n",
      "\tcom.google.errorprone#error_prone_annotations;2.2.0 from central in [default]\n",
      "\tcom.google.guava#failureaccess;1.0 from central in [default]\n",
      "\tcom.google.guava#guava;27.0-jre from central in [default]\n",
      "\tcom.google.guava#listenablefuture;9999.0-empty-to-avoid-conflict-with-guava from central in [default]\n",
      "\tcom.google.j2objc#j2objc-annotations;1.1 from central in [default]\n",
      "\tcom.microsoft.azure#azure-keyvault-core;1.0.0 from central in [default]\n",
      "\tcom.microsoft.azure#azure-storage;7.0.1 from central in [default]\n",
      "\tcommons-codec#commons-codec;1.15 from central in [default]\n",
      "\tcommons-logging#commons-logging;1.1.3 from central in [default]\n",
      "\tio.delta#delta-core_2.12;2.3.0 from central in [default]\n",
      "\tio.delta#delta-storage;2.3.0 from central in [default]\n",
      "\torg.antlr#antlr4-runtime;4.8 from central in [default]\n",
      "\torg.apache.hadoop#hadoop-azure;3.3.3 from central in [default]\n",
      "\torg.apache.hadoop.thirdparty#hadoop-shaded-guava;1.1.1 from central in [default]\n",
      "\torg.apache.httpcomponents#httpclient;4.5.13 from central in [default]\n",
      "\torg.apache.httpcomponents#httpcore;4.4.13 from central in [default]\n",
      "\torg.apache.hudi#hudi-spark3.3-bundle_2.12;0.13.1 from central in [default]\n",
      "\torg.checkerframework#checker-qual;2.5.2 from central in [default]\n",
      "\torg.codehaus.jackson#jackson-core-asl;1.9.13 from central in [default]\n",
      "\torg.codehaus.jackson#jackson-mapper-asl;1.9.13 from central in [default]\n",
      "\torg.codehaus.mojo#animal-sniffer-annotations;1.17 from central in [default]\n",
      "\torg.eclipse.jetty#jetty-util;9.4.43.v20210629 from central in [default]\n",
      "\torg.eclipse.jetty#jetty-util-ajax;9.4.43.v20210629 from central in [default]\n",
      "\torg.slf4j#slf4j-api;1.7.36 from central in [default]\n",
      "\torg.wildfly.openssl#wildfly-openssl;1.0.7.Final from central in [default]\n",
      "\t---------------------------------------------------------------------\n",
      "\t|                  |            modules            ||   artifacts   |\n",
      "\t|       conf       | number| search|dwnlded|evicted|| number|dwnlded|\n",
      "\t---------------------------------------------------------------------\n",
      "\t|      default     |   27  |   0   |   0   |   0   ||   27  |   0   |\n",
      "\t---------------------------------------------------------------------\n",
      ":: retrieving :: org.apache.spark#spark-submit-parent-a7877af2-ce8d-43e0-9a1d-87eb5a4252b9\n",
      "\tconfs: [default]\n",
      "\t0 artifacts copied, 27 already retrieved (0kB/23ms)\n"
     ]
    },
    {
     "name": "stdout",
     "output_type": "stream",
     "text": [
      "23/12/10 21:17:48 WARN NativeCodeLoader: Unable to load native-hadoop library for your platform... using builtin-java classes where applicable\n"
     ]
    },
    {
     "name": "stderr",
     "output_type": "stream",
     "text": [
      "Setting default log level to \"WARN\".\n",
      "To adjust logging level use sc.setLogLevel(newLevel). For SparkR, use setLogLevel(newLevel).\n"
     ]
    }
   ],
   "source": [
    "import pyspark.sql.functions as F\n",
    "import json\n",
    "from cdk.services.api.energi_data_service import EnergiDataService\n",
    "from cdk.common_modules.access.secrets import Secrets\n",
    "from cdk.common_modules.spark.spark_config import SparkConfig\n",
    "from cdk.common_modules.spark.spark_session_builder import SparkSessionBuilder\n",
    "\n",
    "storage_account_name = \"adlsthuehomelakehousedev\"\n",
    "\n",
    "# Set Spark configurations\n",
    "spark_config = SparkConfig(Secrets())\n",
    "\n",
    "# Add jars to install\n",
    "spark_config.add_jars_to_install(['hudi', 'azure_storage', 'delta'])\n",
    "\n",
    "# Add storage account access\n",
    "spark_config.add_storage_account_access(storage_account_name, method='access_key')\n",
    "\n",
    "# Build SparkSession\n",
    "spark = SparkSessionBuilder(\"ViewAzureData\", spark_config).build()\n"
   ]
  },
  {
   "cell_type": "code",
   "execution_count": 2,
   "id": "781facba-5fc0-4c8d-83fc-806e303c7af5",
   "metadata": {},
   "outputs": [],
   "source": [
    "dataset_name = \"stock_transactions\"\n",
    "dataset_path = f\"nordea\"#/20231210/{dataset_name}\"\n",
    "container_name = \"landing\"\n",
    "destination_container_name = \"bronze\"\n",
    "\n",
    "# landing_path = f\"hdfs://namenode:9000/data/landing/energi_data_service/{dataset_name}\"\n",
    "landing_path = f\"abfss://{container_name}@{storage_account_name}.dfs.core.windows.net/{dataset_path}\"\n",
    "bronze_path = f\"abfss://{destination_container_name}@{storage_account_name}.dfs.core.windows.net/{dataset_path}/{dataset_name}\"\n",
    "\n"
   ]
  },
  {
   "cell_type": "code",
   "execution_count": 5,
   "id": "29ca242b",
   "metadata": {},
   "outputs": [
    {
     "name": "stderr",
     "output_type": "stream",
     "text": [
      "                                                                                \r"
     ]
    },
    {
     "name": "stdout",
     "output_type": "stream",
     "text": [
      "+------+--------------------+-------------+----------------+-----+------------+----+----+-----+---+----------+\n",
      "|Status|     Instrument navn|Opdateret den|Transaktionstype|Antal|       Total| _c6|year|month|day|      date|\n",
      "+------+--------------------+-------------+----------------+-----+------------+----+----+-----+---+----------+\n",
      "|Udført|      A/s Jyske Bank|   06-12-2023|         Udbytte|  0.0|  101,14 DKK|null|2023|   12| 10|2023-12-10|\n",
      "|Udført|    TORM plc A Aktie|   05-12-2023|         Udbytte|  0.0|  279,72 DKK|null|2023|   12| 10|2023-12-10|\n",
      "|Udført|Meta Platforms Inc A|   05-12-2023|            Sælg|  2.0|4.373,11 DKK|null|2023|   12| 10|2023-12-10|\n",
      "|Udført|      Microsoft Corp|   04-12-2023|            Sælg|  2.0|5.142,21 DKK|null|2023|   12| 10|2023-12-10|\n",
      "|Udført|          D/S Norden|   28-11-2023|             Køb| 13.0|4.272,20 DKK|null|2023|   12| 10|2023-12-10|\n",
      "|Udført|       Royal UNIBREW|   27-11-2023|             Køb| 10.0|4.633,00 DKK|null|2023|   12| 10|2023-12-10|\n",
      "|Udført|            IONQ Inc|   27-11-2023|             Køb|  2.0|  174,84 DKK|null|2023|   12| 10|2023-12-10|\n",
      "|Udført|            IONQ Inc|   27-11-2023|             Køb| 67.0|5.857,65 DKK|null|2023|   12| 10|2023-12-10|\n",
      "|Udført|        Qualcomm Inc|   27-11-2023|             Køb|  7.0|6.194,00 DKK|null|2023|   12| 10|2023-12-10|\n",
      "|Udført|              TORM A|   24-11-2023|            Sælg| 28.0|6.058,20 DKK|null|2023|   12| 10|2023-12-10|\n",
      "|Udført|Dampskibsselskabe...|   07-11-2023|         Udbytte|  0.0|  150,00 DKK|null|2023|   12| 10|2023-12-10|\n",
      "|Udført|     Bavarian Nordic|   03-11-2023|             Køb| 29.0|3.922,25 DKK|null|2023|   12| 10|2023-12-10|\n",
      "|Udført|                Ambu|   17-10-2023|             Køb| 71.0|4.976,28 DKK|null|2023|   12| 10|2023-12-10|\n",
      "|Udført|                 ISS|   17-10-2023|             Køb| 37.0|3.989,85 DKK|null|2023|   12| 10|2023-12-10|\n",
      "|Udført|    Mercadolibre Inc|   17-10-2023|             Køb|  1.0|8.726,00 DKK|null|2023|   12| 10|2023-12-10|\n",
      "|Udført|       Royal UNIBREW|   17-10-2023|             Køb|  6.0|3.109,40 DKK|null|2023|   12| 10|2023-12-10|\n",
      "|Udført|          D/S Norden|   17-10-2023|             Køb| 15.0|6.467,00 DKK|null|2023|   12| 10|2023-12-10|\n",
      "|Udført|              TORM A|   17-10-2023|            Sælg| 17.0|3.394,80 DKK|null|2023|   12| 10|2023-12-10|\n",
      "|Udført|          Jyske Bank|   06-10-2023|             Køb| 13.0|6.399,00 DKK|null|2023|   12| 10|2023-12-10|\n",
      "|Udført|    TORM plc A Aktie|   12-09-2023|         Udbytte|  0.0|  470,25 DKK|null|2023|   12| 10|2023-12-10|\n",
      "+------+--------------------+-------------+----------------+-----+------------+----+----+-----+---+----------+\n",
      "only showing top 20 rows\n",
      "\n"
     ]
    },
    {
     "name": "stderr",
     "output_type": "stream",
     "text": [
      "                                                                                \r"
     ]
    }
   ],
   "source": [
    "import datetime\n",
    "df = (\n",
    "    spark.read.csv(landing_path, header=True, sep=\";\")\n",
    "    .withColumn(\"date\", F.to_date(F.concat_ws('-','year','month','day'), \"yyyy-MM-dd\"))\n",
    "    .filter((F.col(\"date\")>datetime.date(2023,12,9)))\n",
    ")\n",
    "\n",
    "df.show()"
   ]
  },
  {
   "cell_type": "code",
   "execution_count": 3,
   "id": "ea6a6bdd",
   "metadata": {},
   "outputs": [
    {
     "name": "stderr",
     "output_type": "stream",
     "text": [
      "                                                                                \r"
     ]
    },
    {
     "name": "stdout",
     "output_type": "stream",
     "text": [
      "23/12/10 21:18:12 WARN package: Truncated the string representation of a plan since it was too large. This behavior can be adjusted by setting 'spark.sql.debug.maxToStringFields'.\n"
     ]
    },
    {
     "name": "stderr",
     "output_type": "stream",
     "text": [
      "[Stage 9:>                                                          (0 + 1) / 1]\r"
     ]
    },
    {
     "name": "stdout",
     "output_type": "stream",
     "text": [
      "+------+--------------------+-------------+----------------+-----+------------+----+-----+---+----------+--------------------+\n",
      "|Status|     Instrument_navn|Opdateret_den|Transaktionstype|Antal|       Total|year|month|day|      date|       dwh_updatedAt|\n",
      "+------+--------------------+-------------+----------------+-----+------------+----+-----+---+----------+--------------------+\n",
      "|Udført|      A/s Jyske Bank|   06-12-2023|         Udbytte|  0.0|  101,14 DKK|2023|   12| 10|2023-12-10|2023-12-10 21:16:...|\n",
      "|Udført|    TORM plc A Aktie|   05-12-2023|         Udbytte|  0.0|  279,72 DKK|2023|   12| 10|2023-12-10|2023-12-10 21:16:...|\n",
      "|Udført|Meta Platforms Inc A|   05-12-2023|            Sælg|  2.0|4.373,11 DKK|2023|   12| 10|2023-12-10|2023-12-10 21:16:...|\n",
      "|Udført|      Microsoft Corp|   04-12-2023|            Sælg|  2.0|5.142,21 DKK|2023|   12| 10|2023-12-10|2023-12-10 21:16:...|\n",
      "|Udført|          D/S Norden|   28-11-2023|             Køb| 13.0|4.272,20 DKK|2023|   12| 10|2023-12-10|2023-12-10 21:16:...|\n",
      "|Udført|       Royal UNIBREW|   27-11-2023|             Køb| 10.0|4.633,00 DKK|2023|   12| 10|2023-12-10|2023-12-10 21:16:...|\n",
      "|Udført|            IONQ Inc|   27-11-2023|             Køb|  2.0|  174,84 DKK|2023|   12| 10|2023-12-10|2023-12-10 21:16:...|\n",
      "|Udført|            IONQ Inc|   27-11-2023|             Køb| 67.0|5.857,65 DKK|2023|   12| 10|2023-12-10|2023-12-10 21:16:...|\n",
      "|Udført|        Qualcomm Inc|   27-11-2023|             Køb|  7.0|6.194,00 DKK|2023|   12| 10|2023-12-10|2023-12-10 21:16:...|\n",
      "|Udført|              TORM A|   24-11-2023|            Sælg| 28.0|6.058,20 DKK|2023|   12| 10|2023-12-10|2023-12-10 21:16:...|\n",
      "|Udført|Dampskibsselskabe...|   07-11-2023|         Udbytte|  0.0|  150,00 DKK|2023|   12| 10|2023-12-10|2023-12-10 21:16:...|\n",
      "|Udført|     Bavarian Nordic|   03-11-2023|             Køb| 29.0|3.922,25 DKK|2023|   12| 10|2023-12-10|2023-12-10 21:16:...|\n",
      "|Udført|                Ambu|   17-10-2023|             Køb| 71.0|4.976,28 DKK|2023|   12| 10|2023-12-10|2023-12-10 21:16:...|\n",
      "|Udført|                 ISS|   17-10-2023|             Køb| 37.0|3.989,85 DKK|2023|   12| 10|2023-12-10|2023-12-10 21:16:...|\n",
      "|Udført|    Mercadolibre Inc|   17-10-2023|             Køb|  1.0|8.726,00 DKK|2023|   12| 10|2023-12-10|2023-12-10 21:16:...|\n",
      "|Udført|       Royal UNIBREW|   17-10-2023|             Køb|  6.0|3.109,40 DKK|2023|   12| 10|2023-12-10|2023-12-10 21:16:...|\n",
      "|Udført|          D/S Norden|   17-10-2023|             Køb| 15.0|6.467,00 DKK|2023|   12| 10|2023-12-10|2023-12-10 21:16:...|\n",
      "|Udført|              TORM A|   17-10-2023|            Sælg| 17.0|3.394,80 DKK|2023|   12| 10|2023-12-10|2023-12-10 21:16:...|\n",
      "|Udført|          Jyske Bank|   06-10-2023|             Køb| 13.0|6.399,00 DKK|2023|   12| 10|2023-12-10|2023-12-10 21:16:...|\n",
      "|Udført|    TORM plc A Aktie|   12-09-2023|         Udbytte|  0.0|  470,25 DKK|2023|   12| 10|2023-12-10|2023-12-10 21:16:...|\n",
      "+------+--------------------+-------------+----------------+-----+------------+----+-----+---+----------+--------------------+\n",
      "only showing top 20 rows\n",
      "\n"
     ]
    },
    {
     "name": "stderr",
     "output_type": "stream",
     "text": [
      "                                                                                \r"
     ]
    }
   ],
   "source": [
    "df = (\n",
    "    spark.read.format('delta').load(bronze_path)\n",
    ")\n",
    "\n",
    "df.show()"
   ]
  }
 ],
 "metadata": {
  "kernelspec": {
   "display_name": "Python 3 (ipykernel)",
   "language": "python",
   "name": "python3"
  },
  "language_info": {
   "codemirror_mode": {
    "name": "ipython",
    "version": 3
   },
   "file_extension": ".py",
   "mimetype": "text/x-python",
   "name": "python",
   "nbconvert_exporter": "python",
   "pygments_lexer": "ipython3",
   "version": "3.9.18"
  }
 },
 "nbformat": 4,
 "nbformat_minor": 5
}
