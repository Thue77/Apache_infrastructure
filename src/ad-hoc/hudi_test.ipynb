{
 "cells": [
  {
   "cell_type": "markdown",
   "id": "af77799d-eed8-45ab-833d-c2df5525557f",
   "metadata": {},
   "source": [
    "# This follows the official [quick-start guide](https://hudi.apache.org/docs/quick-start-guide)"
   ]
  },
  {
   "cell_type": "code",
   "execution_count": 1,
   "id": "f149e47a-91fa-4d59-bb6f-cd2c1c4858ef",
   "metadata": {},
   "outputs": [
    {
     "name": "stderr",
     "output_type": "stream",
     "text": [
      "Warning: Ignoring non-Spark config property: fs.default.name\n"
     ]
    },
    {
     "name": "stdout",
     "output_type": "stream",
     "text": [
      ":: loading settings :: url = jar:file:/opt/bitnami/python/lib/python3.9/site-packages/pyspark/jars/ivy-2.5.1.jar!/org/apache/ivy/core/settings/ivysettings.xml\n"
     ]
    },
    {
     "name": "stderr",
     "output_type": "stream",
     "text": [
      "Ivy Default Cache set to: /root/.ivy2/cache\n",
      "The jars for the packages stored in: /root/.ivy2/jars\n",
      "org.apache.hudi#hudi-spark3.3-bundle_2.12 added as a dependency\n",
      ":: resolving dependencies :: org.apache.spark#spark-submit-parent-049e1efb-4695-4038-b7bf-1b906ca7eb02;1.0\n",
      "\tconfs: [default]\n",
      "\tfound org.apache.hudi#hudi-spark3.3-bundle_2.12;0.13.1 in central\n",
      ":: resolution report :: resolve 109ms :: artifacts dl 4ms\n",
      "\t:: modules in use:\n",
      "\torg.apache.hudi#hudi-spark3.3-bundle_2.12;0.13.1 from central in [default]\n",
      "\t---------------------------------------------------------------------\n",
      "\t|                  |            modules            ||   artifacts   |\n",
      "\t|       conf       | number| search|dwnlded|evicted|| number|dwnlded|\n",
      "\t---------------------------------------------------------------------\n",
      "\t|      default     |   1   |   0   |   0   |   0   ||   1   |   0   |\n",
      "\t---------------------------------------------------------------------\n",
      ":: retrieving :: org.apache.spark#spark-submit-parent-049e1efb-4695-4038-b7bf-1b906ca7eb02\n",
      "\tconfs: [default]\n",
      "\t0 artifacts copied, 1 already retrieved (0kB/4ms)\n"
     ]
    },
    {
     "name": "stdout",
     "output_type": "stream",
     "text": [
      "23/09/21 18:02:41 WARN NativeCodeLoader: Unable to load native-hadoop library for your platform... using builtin-java classes where applicable\n"
     ]
    },
    {
     "name": "stderr",
     "output_type": "stream",
     "text": [
      "Setting default log level to \"WARN\".\n",
      "To adjust logging level use sc.setLogLevel(newLevel). For SparkR, use setLogLevel(newLevel).\n"
     ]
    }
   ],
   "source": [
    "from pyspark.sql import SparkSession\n",
    "from pyspark.sql.functions import lit, col\n",
    "\n",
    "spark = (\n",
    "    SparkSession.builder.appName(\"Hudi_Data_Processing_Framework\")\n",
    "    .master(\"spark://spark-master:7077\")\n",
    "    .config(\"spark.executor.memory\", \"512m\")\n",
    "    .config(\"fs.default.name\", \"hdfs://namenode:9000\")\n",
    "    .config(\"spark.serializer\", \"org.apache.spark.serializer.KryoSerializer\")\n",
    "    .config(\"spark.sql.catalog.spark_catalog\",\"org.apache.spark.sql.hudi.catalog.HoodieCatalog\")\n",
    "    .config(\"spark.sql.extensions\",\"org.apache.spark.sql.hudi.HoodieSparkSessionExtension\")\n",
    "    .config(\n",
    "        \"spark.jars.packages\",\n",
    "        \"org.apache.hudi:hudi-spark3.3-bundle_2.12:0.13.1\"\n",
    "    )\n",
    "    .getOrCreate()\n",
    ")\n",
    "\n",
    "spark.sparkContext.setLogLevel('ERROR')"
   ]
  },
  {
   "cell_type": "code",
   "execution_count": 2,
   "id": "cfe1278b",
   "metadata": {},
   "outputs": [
    {
     "ename": "Py4JJavaError",
     "evalue": "An error occurred while calling o42.load.\n: java.lang.NullPointerException\n\tat org.apache.spark.sql.catalyst.util.CharVarcharUtils$.replaceCharVarcharWithStringInSchema(CharVarcharUtils.scala:41)\n\tat org.apache.spark.sql.execution.datasources.LogicalRelation$.apply(LogicalRelation.scala:98)\n\tat org.apache.spark.sql.SparkSession.baseRelationToDataFrame(SparkSession.scala:444)\n\tat org.apache.spark.sql.DataFrameReader.loadV1Source(DataFrameReader.scala:228)\n\tat org.apache.spark.sql.DataFrameReader.$anonfun$load$2(DataFrameReader.scala:210)\n\tat scala.Option.getOrElse(Option.scala:189)\n\tat org.apache.spark.sql.DataFrameReader.load(DataFrameReader.scala:210)\n\tat org.apache.spark.sql.DataFrameReader.load(DataFrameReader.scala:185)\n\tat java.base/jdk.internal.reflect.NativeMethodAccessorImpl.invoke0(Native Method)\n\tat java.base/jdk.internal.reflect.NativeMethodAccessorImpl.invoke(NativeMethodAccessorImpl.java:62)\n\tat java.base/jdk.internal.reflect.DelegatingMethodAccessorImpl.invoke(DelegatingMethodAccessorImpl.java:43)\n\tat java.base/java.lang.reflect.Method.invoke(Method.java:566)\n\tat py4j.reflection.MethodInvoker.invoke(MethodInvoker.java:244)\n\tat py4j.reflection.ReflectionEngine.invoke(ReflectionEngine.java:357)\n\tat py4j.Gateway.invoke(Gateway.java:282)\n\tat py4j.commands.AbstractCommand.invokeMethod(AbstractCommand.java:132)\n\tat py4j.commands.CallCommand.execute(CallCommand.java:79)\n\tat py4j.ClientServerConnection.waitForCommands(ClientServerConnection.java:182)\n\tat py4j.ClientServerConnection.run(ClientServerConnection.java:106)\n\tat java.base/java.lang.Thread.run(Thread.java:829)\n",
     "output_type": "error",
     "traceback": [
      "\u001b[0;31m---------------------------------------------------------------------------\u001b[0m",
      "\u001b[0;31mPy4JJavaError\u001b[0m                             Traceback (most recent call last)",
      "\u001b[1;32m/opt/workspace/hudi_test.ipynb Cell 3\u001b[0m line \u001b[0;36m4\n\u001b[1;32m      <a href='vscode-notebook-cell://attached-container%2B7b22636f6e7461696e65724e616d65223a222f6a7570797465726c6162222c2273657474696e6773223a7b22686f7374223a227373683a2f2f7468756537372d617061636865696e66726173747275632d736536777a65786c783238407468756537372d617061636865696e66726173747275632d736536777a65786c7832382e7673732e676974706f642e696f227d7d/opt/workspace/hudi_test.ipynb#X32sdnNjb2RlLXJlbW90ZQ%3D%3D?line=0'>1</a>\u001b[0m dataset_name \u001b[39m=\u001b[39m \u001b[39m\"\u001b[39m\u001b[39mConsumptionDK3619codehour\u001b[39m\u001b[39m\"\u001b[39m\n\u001b[1;32m      <a href='vscode-notebook-cell://attached-container%2B7b22636f6e7461696e65724e616d65223a222f6a7570797465726c6162222c2273657474696e6773223a7b22686f7374223a227373683a2f2f7468756537372d617061636865696e66726173747275632d736536777a65786c783238407468756537372d617061636865696e66726173747275632d736536777a65786c7832382e7673732e676974706f642e696f227d7d/opt/workspace/hudi_test.ipynb#X32sdnNjb2RlLXJlbW90ZQ%3D%3D?line=1'>2</a>\u001b[0m landing_path \u001b[39m=\u001b[39m \u001b[39mf\u001b[39m\u001b[39m\"\u001b[39m\u001b[39mhdfs://namenode:9000/data/landing/energi_data_service/\u001b[39m\u001b[39m{\u001b[39;00mdataset_name\u001b[39m}\u001b[39;00m\u001b[39m\"\u001b[39m\n\u001b[0;32m----> <a href='vscode-notebook-cell://attached-container%2B7b22636f6e7461696e65724e616d65223a222f6a7570797465726c6162222c2273657474696e6773223a7b22686f7374223a227373683a2f2f7468756537372d617061636865696e66726173747275632d736536777a65786c783238407468756537372d617061636865696e66726173747275632d736536777a65786c7832382e7673732e676974706f642e696f227d7d/opt/workspace/hudi_test.ipynb#X32sdnNjb2RlLXJlbW90ZQ%3D%3D?line=3'>4</a>\u001b[0m df \u001b[39m=\u001b[39m spark\u001b[39m.\u001b[39;49mread\u001b[39m.\u001b[39;49mformat(\u001b[39m\"\u001b[39;49m\u001b[39mhudi\u001b[39;49m\u001b[39m\"\u001b[39;49m)\u001b[39m.\u001b[39;49mload(landing_path)\n\u001b[1;32m      <a href='vscode-notebook-cell://attached-container%2B7b22636f6e7461696e65724e616d65223a222f6a7570797465726c6162222c2273657474696e6773223a7b22686f7374223a227373683a2f2f7468756537372d617061636865696e66726173747275632d736536777a65786c783238407468756537372d617061636865696e66726173747275632d736536777a65786c7832382e7673732e676974706f642e696f227d7d/opt/workspace/hudi_test.ipynb#X32sdnNjb2RlLXJlbW90ZQ%3D%3D?line=5'>6</a>\u001b[0m df\u001b[39m.\u001b[39mshow()\n",
      "File \u001b[0;32m/opt/bitnami/python/lib/python3.9/site-packages/pyspark/sql/readwriter.py:177\u001b[0m, in \u001b[0;36mDataFrameReader.load\u001b[0;34m(self, path, format, schema, **options)\u001b[0m\n\u001b[1;32m    175\u001b[0m \u001b[39mself\u001b[39m\u001b[39m.\u001b[39moptions(\u001b[39m*\u001b[39m\u001b[39m*\u001b[39moptions)\n\u001b[1;32m    176\u001b[0m \u001b[39mif\u001b[39;00m \u001b[39misinstance\u001b[39m(path, \u001b[39mstr\u001b[39m):\n\u001b[0;32m--> 177\u001b[0m     \u001b[39mreturn\u001b[39;00m \u001b[39mself\u001b[39m\u001b[39m.\u001b[39m_df(\u001b[39mself\u001b[39;49m\u001b[39m.\u001b[39;49m_jreader\u001b[39m.\u001b[39;49mload(path))\n\u001b[1;32m    178\u001b[0m \u001b[39melif\u001b[39;00m path \u001b[39mis\u001b[39;00m \u001b[39mnot\u001b[39;00m \u001b[39mNone\u001b[39;00m:\n\u001b[1;32m    179\u001b[0m     \u001b[39mif\u001b[39;00m \u001b[39mtype\u001b[39m(path) \u001b[39m!=\u001b[39m \u001b[39mlist\u001b[39m:\n",
      "File \u001b[0;32m/opt/bitnami/python/lib/python3.9/site-packages/py4j/java_gateway.py:1321\u001b[0m, in \u001b[0;36mJavaMember.__call__\u001b[0;34m(self, *args)\u001b[0m\n\u001b[1;32m   1315\u001b[0m command \u001b[39m=\u001b[39m proto\u001b[39m.\u001b[39mCALL_COMMAND_NAME \u001b[39m+\u001b[39m\\\n\u001b[1;32m   1316\u001b[0m     \u001b[39mself\u001b[39m\u001b[39m.\u001b[39mcommand_header \u001b[39m+\u001b[39m\\\n\u001b[1;32m   1317\u001b[0m     args_command \u001b[39m+\u001b[39m\\\n\u001b[1;32m   1318\u001b[0m     proto\u001b[39m.\u001b[39mEND_COMMAND_PART\n\u001b[1;32m   1320\u001b[0m answer \u001b[39m=\u001b[39m \u001b[39mself\u001b[39m\u001b[39m.\u001b[39mgateway_client\u001b[39m.\u001b[39msend_command(command)\n\u001b[0;32m-> 1321\u001b[0m return_value \u001b[39m=\u001b[39m get_return_value(\n\u001b[1;32m   1322\u001b[0m     answer, \u001b[39mself\u001b[39;49m\u001b[39m.\u001b[39;49mgateway_client, \u001b[39mself\u001b[39;49m\u001b[39m.\u001b[39;49mtarget_id, \u001b[39mself\u001b[39;49m\u001b[39m.\u001b[39;49mname)\n\u001b[1;32m   1324\u001b[0m \u001b[39mfor\u001b[39;00m temp_arg \u001b[39min\u001b[39;00m temp_args:\n\u001b[1;32m   1325\u001b[0m     temp_arg\u001b[39m.\u001b[39m_detach()\n",
      "File \u001b[0;32m/opt/bitnami/python/lib/python3.9/site-packages/pyspark/sql/utils.py:190\u001b[0m, in \u001b[0;36mcapture_sql_exception.<locals>.deco\u001b[0;34m(*a, **kw)\u001b[0m\n\u001b[1;32m    188\u001b[0m \u001b[39mdef\u001b[39;00m \u001b[39mdeco\u001b[39m(\u001b[39m*\u001b[39ma: Any, \u001b[39m*\u001b[39m\u001b[39m*\u001b[39mkw: Any) \u001b[39m-\u001b[39m\u001b[39m>\u001b[39m Any:\n\u001b[1;32m    189\u001b[0m     \u001b[39mtry\u001b[39;00m:\n\u001b[0;32m--> 190\u001b[0m         \u001b[39mreturn\u001b[39;00m f(\u001b[39m*\u001b[39;49ma, \u001b[39m*\u001b[39;49m\u001b[39m*\u001b[39;49mkw)\n\u001b[1;32m    191\u001b[0m     \u001b[39mexcept\u001b[39;00m Py4JJavaError \u001b[39mas\u001b[39;00m e:\n\u001b[1;32m    192\u001b[0m         converted \u001b[39m=\u001b[39m convert_exception(e\u001b[39m.\u001b[39mjava_exception)\n",
      "File \u001b[0;32m/opt/bitnami/python/lib/python3.9/site-packages/py4j/protocol.py:326\u001b[0m, in \u001b[0;36mget_return_value\u001b[0;34m(answer, gateway_client, target_id, name)\u001b[0m\n\u001b[1;32m    324\u001b[0m value \u001b[39m=\u001b[39m OUTPUT_CONVERTER[\u001b[39mtype\u001b[39m](answer[\u001b[39m2\u001b[39m:], gateway_client)\n\u001b[1;32m    325\u001b[0m \u001b[39mif\u001b[39;00m answer[\u001b[39m1\u001b[39m] \u001b[39m==\u001b[39m REFERENCE_TYPE:\n\u001b[0;32m--> 326\u001b[0m     \u001b[39mraise\u001b[39;00m Py4JJavaError(\n\u001b[1;32m    327\u001b[0m         \u001b[39m\"\u001b[39m\u001b[39mAn error occurred while calling \u001b[39m\u001b[39m{0}\u001b[39;00m\u001b[39m{1}\u001b[39;00m\u001b[39m{2}\u001b[39;00m\u001b[39m.\u001b[39m\u001b[39m\\n\u001b[39;00m\u001b[39m\"\u001b[39m\u001b[39m.\u001b[39m\n\u001b[1;32m    328\u001b[0m         \u001b[39mformat\u001b[39m(target_id, \u001b[39m\"\u001b[39m\u001b[39m.\u001b[39m\u001b[39m\"\u001b[39m, name), value)\n\u001b[1;32m    329\u001b[0m \u001b[39melse\u001b[39;00m:\n\u001b[1;32m    330\u001b[0m     \u001b[39mraise\u001b[39;00m Py4JError(\n\u001b[1;32m    331\u001b[0m         \u001b[39m\"\u001b[39m\u001b[39mAn error occurred while calling \u001b[39m\u001b[39m{0}\u001b[39;00m\u001b[39m{1}\u001b[39;00m\u001b[39m{2}\u001b[39;00m\u001b[39m. Trace:\u001b[39m\u001b[39m\\n\u001b[39;00m\u001b[39m{3}\u001b[39;00m\u001b[39m\\n\u001b[39;00m\u001b[39m\"\u001b[39m\u001b[39m.\u001b[39m\n\u001b[1;32m    332\u001b[0m         \u001b[39mformat\u001b[39m(target_id, \u001b[39m\"\u001b[39m\u001b[39m.\u001b[39m\u001b[39m\"\u001b[39m, name, value))\n",
      "\u001b[0;31mPy4JJavaError\u001b[0m: An error occurred while calling o42.load.\n: java.lang.NullPointerException\n\tat org.apache.spark.sql.catalyst.util.CharVarcharUtils$.replaceCharVarcharWithStringInSchema(CharVarcharUtils.scala:41)\n\tat org.apache.spark.sql.execution.datasources.LogicalRelation$.apply(LogicalRelation.scala:98)\n\tat org.apache.spark.sql.SparkSession.baseRelationToDataFrame(SparkSession.scala:444)\n\tat org.apache.spark.sql.DataFrameReader.loadV1Source(DataFrameReader.scala:228)\n\tat org.apache.spark.sql.DataFrameReader.$anonfun$load$2(DataFrameReader.scala:210)\n\tat scala.Option.getOrElse(Option.scala:189)\n\tat org.apache.spark.sql.DataFrameReader.load(DataFrameReader.scala:210)\n\tat org.apache.spark.sql.DataFrameReader.load(DataFrameReader.scala:185)\n\tat java.base/jdk.internal.reflect.NativeMethodAccessorImpl.invoke0(Native Method)\n\tat java.base/jdk.internal.reflect.NativeMethodAccessorImpl.invoke(NativeMethodAccessorImpl.java:62)\n\tat java.base/jdk.internal.reflect.DelegatingMethodAccessorImpl.invoke(DelegatingMethodAccessorImpl.java:43)\n\tat java.base/java.lang.reflect.Method.invoke(Method.java:566)\n\tat py4j.reflection.MethodInvoker.invoke(MethodInvoker.java:244)\n\tat py4j.reflection.ReflectionEngine.invoke(ReflectionEngine.java:357)\n\tat py4j.Gateway.invoke(Gateway.java:282)\n\tat py4j.commands.AbstractCommand.invokeMethod(AbstractCommand.java:132)\n\tat py4j.commands.CallCommand.execute(CallCommand.java:79)\n\tat py4j.ClientServerConnection.waitForCommands(ClientServerConnection.java:182)\n\tat py4j.ClientServerConnection.run(ClientServerConnection.java:106)\n\tat java.base/java.lang.Thread.run(Thread.java:829)\n"
     ]
    }
   ],
   "source": [
    "dataset_name = \"ConsumptionDK3619codehour\"\n",
    "landing_path = f\"hdfs://namenode:9000/data/landing/energi_data_service/{dataset_name}\"\n",
    "\n",
    "df = spark.read.format(\"hudi\").load(landing_path)\n",
    "\n",
    "df.show()"
   ]
  },
  {
   "cell_type": "code",
   "execution_count": 2,
   "id": "cf8a7627-2467-413c-918a-4330afa26e03",
   "metadata": {},
   "outputs": [],
   "source": [
    "# pyspark\n",
    "from pyspark import SparkContext as sc\n",
    "tableName = \"hudi_trips_cow\"\n",
    "basePath = f\"hdfs://namenode:9000/tmp/{tableName}\"\n",
    "dataGen = sc._jvm.org.apache.hudi.QuickstartUtils.DataGenerator()"
   ]
  },
  {
   "cell_type": "markdown",
   "id": "41e4dee2-a605-4e1d-8421-d9a0c736bce5",
   "metadata": {},
   "source": [
    "# Generate data\n",
    "Trip data with starting and ending coordinates, and the cost. \n",
    "Only 3 trips are generated"
   ]
  },
  {
   "cell_type": "code",
   "execution_count": 3,
   "id": "d5a20b50-6924-484c-b7a1-1c83721fb73e",
   "metadata": {},
   "outputs": [
    {
     "name": "stderr",
     "output_type": "stream",
     "text": [
      "                                                                                \r"
     ]
    }
   ],
   "source": [
    "# pyspark\n",
    "inserts = sc._jvm.org.apache.hudi.QuickstartUtils.convertToStringList(dataGen.generateInserts(3))\n",
    "df = spark.read.json(spark.sparkContext.parallelize(inserts, 2))\n",
    "\n",
    "hudi_options = {\n",
    "    'hoodie.table.name': tableName,\n",
    "    'hoodie.datasource.write.recordkey.field': 'uuid',\n",
    "    'hoodie.datasource.write.partitionpath.field': 'partitionpath',\n",
    "    'hoodie.datasource.write.table.name': tableName,\n",
    "    'hoodie.datasource.write.operation': 'upsert',\n",
    "    'hoodie.datasource.write.precombine.field': 'ts',\n",
    "    'hoodie.upsert.shuffle.parallelism': 1,\n",
    "    'hoodie.insert.shuffle.parallelism': 1\n",
    "}"
   ]
  },
  {
   "cell_type": "code",
   "execution_count": 4,
   "id": "cdba9049-190e-466b-969d-40789cd58f6c",
   "metadata": {},
   "outputs": [
    {
     "data": {
      "text/html": [
       "<div>\n",
       "<style scoped>\n",
       "    .dataframe tbody tr th:only-of-type {\n",
       "        vertical-align: middle;\n",
       "    }\n",
       "\n",
       "    .dataframe tbody tr th {\n",
       "        vertical-align: top;\n",
       "    }\n",
       "\n",
       "    .dataframe thead th {\n",
       "        text-align: right;\n",
       "    }\n",
       "</style>\n",
       "<table border=\"1\" class=\"dataframe\">\n",
       "  <thead>\n",
       "    <tr style=\"text-align: right;\">\n",
       "      <th></th>\n",
       "      <th>begin_lat</th>\n",
       "      <th>begin_lon</th>\n",
       "      <th>driver</th>\n",
       "      <th>end_lat</th>\n",
       "      <th>end_lon</th>\n",
       "      <th>fare</th>\n",
       "      <th>partitionpath</th>\n",
       "      <th>rider</th>\n",
       "      <th>ts</th>\n",
       "      <th>uuid</th>\n",
       "    </tr>\n",
       "  </thead>\n",
       "  <tbody>\n",
       "    <tr>\n",
       "      <th>0</th>\n",
       "      <td>0.472691</td>\n",
       "      <td>0.461579</td>\n",
       "      <td>driver-213</td>\n",
       "      <td>0.754803</td>\n",
       "      <td>0.967116</td>\n",
       "      <td>34.158285</td>\n",
       "      <td>americas/brazil/sao_paulo</td>\n",
       "      <td>rider-213</td>\n",
       "      <td>1694264657063</td>\n",
       "      <td>57cac6b3-4d3a-4c08-a769-a23a4c6e090e</td>\n",
       "    </tr>\n",
       "    <tr>\n",
       "      <th>1</th>\n",
       "      <td>0.610007</td>\n",
       "      <td>0.877940</td>\n",
       "      <td>driver-213</td>\n",
       "      <td>0.340787</td>\n",
       "      <td>0.503080</td>\n",
       "      <td>43.492381</td>\n",
       "      <td>americas/brazil/sao_paulo</td>\n",
       "      <td>rider-213</td>\n",
       "      <td>1694122729122</td>\n",
       "      <td>f22ea337-61ce-40b8-b0b4-6380c7c8208e</td>\n",
       "    </tr>\n",
       "    <tr>\n",
       "      <th>2</th>\n",
       "      <td>0.573184</td>\n",
       "      <td>0.492348</td>\n",
       "      <td>driver-213</td>\n",
       "      <td>0.089886</td>\n",
       "      <td>0.425209</td>\n",
       "      <td>64.276963</td>\n",
       "      <td>americas/united_states/san_francisco</td>\n",
       "      <td>rider-213</td>\n",
       "      <td>1694210071708</td>\n",
       "      <td>1b59d447-8ec0-4ee2-9f2b-021cf0191656</td>\n",
       "    </tr>\n",
       "  </tbody>\n",
       "</table>\n",
       "</div>"
      ],
      "text/plain": [
       "   begin_lat  begin_lon      driver   end_lat   end_lon       fare  \\\n",
       "0   0.472691   0.461579  driver-213  0.754803  0.967116  34.158285   \n",
       "1   0.610007   0.877940  driver-213  0.340787  0.503080  43.492381   \n",
       "2   0.573184   0.492348  driver-213  0.089886  0.425209  64.276963   \n",
       "\n",
       "                          partitionpath      rider             ts  \\\n",
       "0             americas/brazil/sao_paulo  rider-213  1694264657063   \n",
       "1             americas/brazil/sao_paulo  rider-213  1694122729122   \n",
       "2  americas/united_states/san_francisco  rider-213  1694210071708   \n",
       "\n",
       "                                   uuid  \n",
       "0  57cac6b3-4d3a-4c08-a769-a23a4c6e090e  \n",
       "1  f22ea337-61ce-40b8-b0b4-6380c7c8208e  \n",
       "2  1b59d447-8ec0-4ee2-9f2b-021cf0191656  "
      ]
     },
     "execution_count": 4,
     "metadata": {},
     "output_type": "execute_result"
    }
   ],
   "source": [
    "df.toPandas().head()"
   ]
  },
  {
   "cell_type": "markdown",
   "id": "fcf68089-6034-4940-917c-81f49b01ae1d",
   "metadata": {},
   "source": [
    "# Write data - overwrite"
   ]
  },
  {
   "cell_type": "code",
   "execution_count": 5,
   "id": "bdaf1da3-ee50-4b94-9de6-12a6b925718c",
   "metadata": {},
   "outputs": [
    {
     "name": "stderr",
     "output_type": "stream",
     "text": [
      "                                                                                \r"
     ]
    },
    {
     "name": "stdout",
     "output_type": "stream",
     "text": [
      "23/09/10 17:41:40 ERROR StandaloneSchedulerBackend: Application has been killed. Reason: Master removed our application: KILLED\n",
      "23/09/10 17:41:40 ERROR Inbox: Ignoring error\n",
      "org.apache.spark.SparkException: Exiting due to error from cluster scheduler: Master removed our application: KILLED\n",
      "\tat org.apache.spark.errors.SparkCoreErrors$.clusterSchedulerError(SparkCoreErrors.scala:218)\n",
      "\tat org.apache.spark.scheduler.TaskSchedulerImpl.error(TaskSchedulerImpl.scala:923)\n",
      "\tat org.apache.spark.scheduler.cluster.StandaloneSchedulerBackend.dead(StandaloneSchedulerBackend.scala:154)\n",
      "\tat org.apache.spark.deploy.client.StandaloneAppClient$ClientEndpoint.markDead(StandaloneAppClient.scala:262)\n",
      "\tat org.apache.spark.deploy.client.StandaloneAppClient$ClientEndpoint$$anonfun$receive$1.applyOrElse(StandaloneAppClient.scala:169)\n",
      "\tat org.apache.spark.rpc.netty.Inbox.$anonfun$process$1(Inbox.scala:115)\n",
      "\tat org.apache.spark.rpc.netty.Inbox.safelyCall(Inbox.scala:213)\n",
      "\tat org.apache.spark.rpc.netty.Inbox.process(Inbox.scala:100)\n",
      "\tat org.apache.spark.rpc.netty.MessageLoop.org$apache$spark$rpc$netty$MessageLoop$$receiveLoop(MessageLoop.scala:75)\n",
      "\tat org.apache.spark.rpc.netty.MessageLoop$$anon$1.run(MessageLoop.scala:41)\n",
      "\tat java.util.concurrent.ThreadPoolExecutor.runWorker(ThreadPoolExecutor.java:1149)\n",
      "\tat java.util.concurrent.ThreadPoolExecutor$Worker.run(ThreadPoolExecutor.java:624)\n",
      "\tat java.lang.Thread.run(Thread.java:750)\n",
      "23/09/10 17:41:40 ERROR TaskSchedulerImpl: Lost executor 0 on 172.23.0.11: Remote RPC client disassociated. Likely due to containers exceeding thresholds, or network issues. Check driver logs for WARN messages.\n",
      "23/09/10 17:41:40 ERROR TaskSchedulerImpl: Lost executor 1 on 172.23.0.12: Remote RPC client disassociated. Likely due to containers exceeding thresholds, or network issues. Check driver logs for WARN messages.\n"
     ]
    }
   ],
   "source": [
    "df.write.format(\"hudi\"). \\\n",
    "    options(**hudi_options). \\\n",
    "    mode(\"overwrite\"). \\\n",
    "    save(basePath)"
   ]
  },
  {
   "cell_type": "markdown",
   "id": "1336efb3-f69b-409b-b91c-aa073bab17a3",
   "metadata": {},
   "source": [
    "# Read data with SQL"
   ]
  },
  {
   "cell_type": "code",
   "execution_count": 72,
   "id": "7bce4c51-c801-4e59-a8a5-65beffa45109",
   "metadata": {},
   "outputs": [
    {
     "name": "stdout",
     "output_type": "stream",
     "text": [
      "+------------------+--------------------+-------------------+-------------+\n",
      "|              fare|           begin_lon|          begin_lat|           ts|\n",
      "+------------------+--------------------+-------------------+-------------+\n",
      "| 64.51866124948768|0.011933855867048981| 0.3643791915968686|1694177464554|\n",
      "|30.958879211588386|  0.4188521186617712|0.06076955804980588|1694045480078|\n",
      "+------------------+--------------------+-------------------+-------------+\n",
      "\n",
      "+-------------------+--------------------+----------------------+---------+----------+------------------+\n",
      "|_hoodie_commit_time|  _hoodie_record_key|_hoodie_partition_path|    rider|    driver|              fare|\n",
      "+-------------------+--------------------+----------------------+---------+----------+------------------+\n",
      "|  20230910142900300|5f52d781-a905-415...|  americas/united_s...|rider-047|driver-047| 64.51866124948768|\n",
      "|  20230910142900300|9614a1c4-0176-43b...|  americas/brazil/s...|rider-047|driver-047|17.496376187467867|\n",
      "|  20230910142736668|4deb37fc-e68c-4d2...|  americas/brazil/s...|rider-146|driver-146|30.958879211588386|\n",
      "+-------------------+--------------------+----------------------+---------+----------+------------------+\n",
      "\n"
     ]
    }
   ],
   "source": [
    "# pyspark\n",
    "tripsSnapshotDF = spark. \\\n",
    "  read. \\\n",
    "  format(\"hudi\"). \\\n",
    "  load(basePath)\n",
    "# load(basePath) use \"/partitionKey=partitionValue\" folder structure for Spark auto partition discovery\n",
    "\n",
    "tripsSnapshotDF.createOrReplaceTempView(\"hudi_trips_snapshot\")\n",
    "\n",
    "spark.sql(\"select fare, begin_lon, begin_lat, ts from  hudi_trips_snapshot where fare > 20.0\").show()\n",
    "spark.sql(\"select _hoodie_commit_time, _hoodie_record_key, _hoodie_partition_path, rider, driver, fare from  hudi_trips_snapshot\").show()"
   ]
  },
  {
   "cell_type": "markdown",
   "id": "57ab1257-f916-4b15-8933-bc75f00ca4d6",
   "metadata": {},
   "source": [
    "# Read with Pandas"
   ]
  },
  {
   "cell_type": "code",
   "execution_count": 73,
   "id": "8dac2327-050e-446d-b642-b8221f687876",
   "metadata": {},
   "outputs": [
    {
     "data": {
      "text/html": [
       "<div>\n",
       "<style scoped>\n",
       "    .dataframe tbody tr th:only-of-type {\n",
       "        vertical-align: middle;\n",
       "    }\n",
       "\n",
       "    .dataframe tbody tr th {\n",
       "        vertical-align: top;\n",
       "    }\n",
       "\n",
       "    .dataframe thead th {\n",
       "        text-align: right;\n",
       "    }\n",
       "</style>\n",
       "<table border=\"1\" class=\"dataframe\">\n",
       "  <thead>\n",
       "    <tr style=\"text-align: right;\">\n",
       "      <th></th>\n",
       "      <th>_hoodie_commit_time</th>\n",
       "      <th>_hoodie_commit_seqno</th>\n",
       "      <th>_hoodie_record_key</th>\n",
       "      <th>_hoodie_partition_path</th>\n",
       "      <th>_hoodie_file_name</th>\n",
       "      <th>begin_lat</th>\n",
       "      <th>begin_lon</th>\n",
       "      <th>driver</th>\n",
       "      <th>end_lat</th>\n",
       "      <th>end_lon</th>\n",
       "      <th>fare</th>\n",
       "      <th>rider</th>\n",
       "      <th>ts</th>\n",
       "      <th>uuid</th>\n",
       "      <th>partitionpath</th>\n",
       "    </tr>\n",
       "  </thead>\n",
       "  <tbody>\n",
       "    <tr>\n",
       "      <th>0</th>\n",
       "      <td>20230910142900300</td>\n",
       "      <td>20230910142900300_1_0</td>\n",
       "      <td>5f52d781-a905-4155-a0f2-027fb5808729</td>\n",
       "      <td>americas/united_states/san_francisco</td>\n",
       "      <td>5b051018-29c0-4ddd-b0da-896770ec7284-0_1-676-8...</td>\n",
       "      <td>0.364379</td>\n",
       "      <td>0.011934</td>\n",
       "      <td>driver-047</td>\n",
       "      <td>0.162582</td>\n",
       "      <td>0.963531</td>\n",
       "      <td>64.518661</td>\n",
       "      <td>rider-047</td>\n",
       "      <td>1694177464554</td>\n",
       "      <td>5f52d781-a905-4155-a0f2-027fb5808729</td>\n",
       "      <td>americas/united_states/san_francisco</td>\n",
       "    </tr>\n",
       "    <tr>\n",
       "      <th>1</th>\n",
       "      <td>20230910142900300</td>\n",
       "      <td>20230910142900300_0_0</td>\n",
       "      <td>9614a1c4-0176-43ba-82c5-c2b909313af0</td>\n",
       "      <td>americas/brazil/sao_paulo</td>\n",
       "      <td>3081a60e-7ce2-4b67-ba9e-6ce164192c5a-0_0-676-8...</td>\n",
       "      <td>0.236524</td>\n",
       "      <td>0.571546</td>\n",
       "      <td>driver-047</td>\n",
       "      <td>0.880675</td>\n",
       "      <td>0.495799</td>\n",
       "      <td>17.496376</td>\n",
       "      <td>rider-047</td>\n",
       "      <td>1694198389570</td>\n",
       "      <td>9614a1c4-0176-43ba-82c5-c2b909313af0</td>\n",
       "      <td>americas/brazil/sao_paulo</td>\n",
       "    </tr>\n",
       "    <tr>\n",
       "      <th>2</th>\n",
       "      <td>20230910142736668</td>\n",
       "      <td>20230910142736668_0_1</td>\n",
       "      <td>4deb37fc-e68c-4d2a-a3c7-e60c6289c38b</td>\n",
       "      <td>americas/brazil/sao_paulo</td>\n",
       "      <td>3081a60e-7ce2-4b67-ba9e-6ce164192c5a-0_0-676-8...</td>\n",
       "      <td>0.060770</td>\n",
       "      <td>0.418852</td>\n",
       "      <td>driver-146</td>\n",
       "      <td>0.492771</td>\n",
       "      <td>0.693565</td>\n",
       "      <td>30.958879</td>\n",
       "      <td>rider-146</td>\n",
       "      <td>1694045480078</td>\n",
       "      <td>4deb37fc-e68c-4d2a-a3c7-e60c6289c38b</td>\n",
       "      <td>americas/brazil/sao_paulo</td>\n",
       "    </tr>\n",
       "  </tbody>\n",
       "</table>\n",
       "</div>"
      ],
      "text/plain": [
       "  _hoodie_commit_time   _hoodie_commit_seqno  \\\n",
       "0   20230910142900300  20230910142900300_1_0   \n",
       "1   20230910142900300  20230910142900300_0_0   \n",
       "2   20230910142736668  20230910142736668_0_1   \n",
       "\n",
       "                     _hoodie_record_key                _hoodie_partition_path  \\\n",
       "0  5f52d781-a905-4155-a0f2-027fb5808729  americas/united_states/san_francisco   \n",
       "1  9614a1c4-0176-43ba-82c5-c2b909313af0             americas/brazil/sao_paulo   \n",
       "2  4deb37fc-e68c-4d2a-a3c7-e60c6289c38b             americas/brazil/sao_paulo   \n",
       "\n",
       "                                   _hoodie_file_name  begin_lat  begin_lon  \\\n",
       "0  5b051018-29c0-4ddd-b0da-896770ec7284-0_1-676-8...   0.364379   0.011934   \n",
       "1  3081a60e-7ce2-4b67-ba9e-6ce164192c5a-0_0-676-8...   0.236524   0.571546   \n",
       "2  3081a60e-7ce2-4b67-ba9e-6ce164192c5a-0_0-676-8...   0.060770   0.418852   \n",
       "\n",
       "       driver   end_lat   end_lon       fare      rider             ts  \\\n",
       "0  driver-047  0.162582  0.963531  64.518661  rider-047  1694177464554   \n",
       "1  driver-047  0.880675  0.495799  17.496376  rider-047  1694198389570   \n",
       "2  driver-146  0.492771  0.693565  30.958879  rider-146  1694045480078   \n",
       "\n",
       "                                   uuid                         partitionpath  \n",
       "0  5f52d781-a905-4155-a0f2-027fb5808729  americas/united_states/san_francisco  \n",
       "1  9614a1c4-0176-43ba-82c5-c2b909313af0             americas/brazil/sao_paulo  \n",
       "2  4deb37fc-e68c-4d2a-a3c7-e60c6289c38b             americas/brazil/sao_paulo  "
      ]
     },
     "execution_count": 73,
     "metadata": {},
     "output_type": "execute_result"
    }
   ],
   "source": [
    "tripsSnapshotDF.toPandas().head(15)"
   ]
  },
  {
   "cell_type": "markdown",
   "id": "f14ad81b-5101-45e4-ad28-b6fd5ba7e215",
   "metadata": {},
   "source": [
    "# Update data"
   ]
  },
  {
   "cell_type": "code",
   "execution_count": 90,
   "id": "4dbe2265-342c-445d-a4d2-d9dacacecb5f",
   "metadata": {},
   "outputs": [],
   "source": [
    "# pyspark\n",
    "updates = sc._jvm.org.apache.hudi.QuickstartUtils.convertToStringList(dataGen.generateUpdates(3))\n",
    "df = spark.read.json(spark.sparkContext.parallelize(updates, 2))\n",
    "(\n",
    "df.write.format(\"hudi\"). \n",
    "  options(**hudi_options). \n",
    "  mode(\"append\"). \n",
    "  save(basePath)\n",
    ")"
   ]
  },
  {
   "cell_type": "code",
   "execution_count": 91,
   "id": "cdc3c644-14b6-4f80-a042-4c06886478d4",
   "metadata": {},
   "outputs": [
    {
     "data": {
      "text/html": [
       "<div>\n",
       "<style scoped>\n",
       "    .dataframe tbody tr th:only-of-type {\n",
       "        vertical-align: middle;\n",
       "    }\n",
       "\n",
       "    .dataframe tbody tr th {\n",
       "        vertical-align: top;\n",
       "    }\n",
       "\n",
       "    .dataframe thead th {\n",
       "        text-align: right;\n",
       "    }\n",
       "</style>\n",
       "<table border=\"1\" class=\"dataframe\">\n",
       "  <thead>\n",
       "    <tr style=\"text-align: right;\">\n",
       "      <th></th>\n",
       "      <th>begin_lat</th>\n",
       "      <th>begin_lon</th>\n",
       "      <th>driver</th>\n",
       "      <th>end_lat</th>\n",
       "      <th>end_lon</th>\n",
       "      <th>fare</th>\n",
       "      <th>partitionpath</th>\n",
       "      <th>rider</th>\n",
       "      <th>ts</th>\n",
       "      <th>uuid</th>\n",
       "    </tr>\n",
       "  </thead>\n",
       "  <tbody>\n",
       "    <tr>\n",
       "      <th>0</th>\n",
       "      <td>0.479578</td>\n",
       "      <td>0.685089</td>\n",
       "      <td>driver-932</td>\n",
       "      <td>0.147921</td>\n",
       "      <td>0.486872</td>\n",
       "      <td>3.482702</td>\n",
       "      <td>americas/brazil/sao_paulo</td>\n",
       "      <td>rider-932</td>\n",
       "      <td>1693955532276</td>\n",
       "      <td>9614a1c4-0176-43ba-82c5-c2b909313af0</td>\n",
       "    </tr>\n",
       "    <tr>\n",
       "      <th>1</th>\n",
       "      <td>0.756810</td>\n",
       "      <td>0.673252</td>\n",
       "      <td>driver-932</td>\n",
       "      <td>0.722576</td>\n",
       "      <td>0.392536</td>\n",
       "      <td>57.610972</td>\n",
       "      <td>americas/united_states/san_francisco</td>\n",
       "      <td>rider-932</td>\n",
       "      <td>1693913875613</td>\n",
       "      <td>5f52d781-a905-4155-a0f2-027fb5808729</td>\n",
       "    </tr>\n",
       "    <tr>\n",
       "      <th>2</th>\n",
       "      <td>0.723062</td>\n",
       "      <td>0.360805</td>\n",
       "      <td>driver-932</td>\n",
       "      <td>0.825075</td>\n",
       "      <td>0.030241</td>\n",
       "      <td>74.734102</td>\n",
       "      <td>americas/brazil/sao_paulo</td>\n",
       "      <td>rider-932</td>\n",
       "      <td>1693816310709</td>\n",
       "      <td>9614a1c4-0176-43ba-82c5-c2b909313af0</td>\n",
       "    </tr>\n",
       "  </tbody>\n",
       "</table>\n",
       "</div>"
      ],
      "text/plain": [
       "   begin_lat  begin_lon      driver   end_lat   end_lon       fare  \\\n",
       "0   0.479578   0.685089  driver-932  0.147921  0.486872   3.482702   \n",
       "1   0.756810   0.673252  driver-932  0.722576  0.392536  57.610972   \n",
       "2   0.723062   0.360805  driver-932  0.825075  0.030241  74.734102   \n",
       "\n",
       "                          partitionpath      rider             ts  \\\n",
       "0             americas/brazil/sao_paulo  rider-932  1693955532276   \n",
       "1  americas/united_states/san_francisco  rider-932  1693913875613   \n",
       "2             americas/brazil/sao_paulo  rider-932  1693816310709   \n",
       "\n",
       "                                   uuid  \n",
       "0  9614a1c4-0176-43ba-82c5-c2b909313af0  \n",
       "1  5f52d781-a905-4155-a0f2-027fb5808729  \n",
       "2  9614a1c4-0176-43ba-82c5-c2b909313af0  "
      ]
     },
     "execution_count": 91,
     "metadata": {},
     "output_type": "execute_result"
    }
   ],
   "source": [
    "df.toPandas().head(15)"
   ]
  },
  {
   "cell_type": "markdown",
   "id": "60e2606a-7f83-4b38-b127-7e617c99443a",
   "metadata": {},
   "source": [
    "# Time travel query"
   ]
  },
  {
   "cell_type": "code",
   "execution_count": 97,
   "id": "814f2c7a-06c4-4c74-b5ca-2f27601a7c41",
   "metadata": {},
   "outputs": [
    {
     "data": {
      "text/html": [
       "<div>\n",
       "<style scoped>\n",
       "    .dataframe tbody tr th:only-of-type {\n",
       "        vertical-align: middle;\n",
       "    }\n",
       "\n",
       "    .dataframe tbody tr th {\n",
       "        vertical-align: top;\n",
       "    }\n",
       "\n",
       "    .dataframe thead th {\n",
       "        text-align: right;\n",
       "    }\n",
       "</style>\n",
       "<table border=\"1\" class=\"dataframe\">\n",
       "  <thead>\n",
       "    <tr style=\"text-align: right;\">\n",
       "      <th></th>\n",
       "      <th>_hoodie_commit_time</th>\n",
       "      <th>_hoodie_commit_seqno</th>\n",
       "      <th>_hoodie_record_key</th>\n",
       "      <th>_hoodie_partition_path</th>\n",
       "      <th>_hoodie_file_name</th>\n",
       "      <th>begin_lat</th>\n",
       "      <th>begin_lon</th>\n",
       "      <th>driver</th>\n",
       "      <th>end_lat</th>\n",
       "      <th>end_lon</th>\n",
       "      <th>fare</th>\n",
       "      <th>rider</th>\n",
       "      <th>ts</th>\n",
       "      <th>uuid</th>\n",
       "      <th>partitionpath</th>\n",
       "    </tr>\n",
       "  </thead>\n",
       "  <tbody>\n",
       "    <tr>\n",
       "      <th>0</th>\n",
       "      <td>20230910142736668</td>\n",
       "      <td>20230910142736668_1_0</td>\n",
       "      <td>5f52d781-a905-4155-a0f2-027fb5808729</td>\n",
       "      <td>americas/united_states/san_francisco</td>\n",
       "      <td>5b051018-29c0-4ddd-b0da-896770ec7284-0_1-607-7...</td>\n",
       "      <td>0.0014</td>\n",
       "      <td>0.515296</td>\n",
       "      <td>driver-146</td>\n",
       "      <td>0.754257</td>\n",
       "      <td>0.740671</td>\n",
       "      <td>82.201951</td>\n",
       "      <td>rider-146</td>\n",
       "      <td>1693811790644</td>\n",
       "      <td>5f52d781-a905-4155-a0f2-027fb5808729</td>\n",
       "      <td>americas/united_states/san_francisco</td>\n",
       "    </tr>\n",
       "  </tbody>\n",
       "</table>\n",
       "</div>"
      ],
      "text/plain": [
       "  _hoodie_commit_time   _hoodie_commit_seqno  \\\n",
       "0   20230910142736668  20230910142736668_1_0   \n",
       "\n",
       "                     _hoodie_record_key                _hoodie_partition_path  \\\n",
       "0  5f52d781-a905-4155-a0f2-027fb5808729  americas/united_states/san_francisco   \n",
       "\n",
       "                                   _hoodie_file_name  begin_lat  begin_lon  \\\n",
       "0  5b051018-29c0-4ddd-b0da-896770ec7284-0_1-607-7...     0.0014   0.515296   \n",
       "\n",
       "       driver   end_lat   end_lon       fare      rider             ts  \\\n",
       "0  driver-146  0.754257  0.740671  82.201951  rider-146  1693811790644   \n",
       "\n",
       "                                   uuid                         partitionpath  \n",
       "0  5f52d781-a905-4155-a0f2-027fb5808729  americas/united_states/san_francisco  "
      ]
     },
     "execution_count": 97,
     "metadata": {},
     "output_type": "execute_result"
    }
   ],
   "source": [
    "df_time_travel = (\n",
    "    spark.read. \n",
    "      format(\"hudi\"). \n",
    "      option(\"as.of.instant\", \"20230910142736670\"). \n",
    "      load(basePath)\n",
    ")\n",
    "\n",
    "df_time_travel.filter(col('uuid')=='5f52d781-a905-4155-a0f2-027fb5808729').toPandas().head(15)"
   ]
  },
  {
   "cell_type": "markdown",
   "id": "946d7713-3ef3-47b1-8e99-9f6663a69449",
   "metadata": {},
   "source": [
    "# Incremental query"
   ]
  },
  {
   "cell_type": "code",
   "execution_count": 96,
   "id": "ac00fd98-73ec-4307-b781-db1b4814534c",
   "metadata": {},
   "outputs": [
    {
     "name": "stdout",
     "output_type": "stream",
     "text": [
      "+-------------------+--------------------+------------------+------------------+------------------+-------------+\n",
      "|_hoodie_commit_time|                uuid|              fare|         begin_lon|         begin_lat|           ts|\n",
      "+-------------------+--------------------+------------------+------------------+------------------+-------------+\n",
      "|  20230910144449253|5f52d781-a905-415...|57.610971935361185| 0.673252109470476|0.7568098508318892|1693913875613|\n",
      "|  20230910144449253|9614a1c4-0176-43b...| 3.482702091010481|0.6850887026829963|0.4795784679677898|1693955532276|\n",
      "+-------------------+--------------------+------------------+------------------+------------------+-------------+\n",
      "\n"
     ]
    }
   ],
   "source": [
    "# pyspark\n",
    "# reload data\n",
    "spark. \\\n",
    "  read. \\\n",
    "  format(\"hudi\"). \\\n",
    "  load(basePath). \\\n",
    "  createOrReplaceTempView(\"hudi_trips_snapshot\")\n",
    "\n",
    "commits = list(map(lambda row: row[0], spark.sql(\"select distinct(_hoodie_commit_time) as commitTime from  hudi_trips_snapshot order by commitTime\").limit(50).collect()))\n",
    "beginTime = commits[len(commits) - 2] # commit time we are interested in\n",
    "\n",
    "# incrementally query data\n",
    "incremental_read_options = {\n",
    "  'hoodie.datasource.query.type': 'incremental',\n",
    "  'hoodie.datasource.read.begin.instanttime': '20230910144418889736',\n",
    "}\n",
    "\n",
    "tripsIncrementalDF = spark.read.format(\"hudi\"). \\\n",
    "  options(**incremental_read_options). \\\n",
    "  load(basePath)\n",
    "tripsIncrementalDF.createOrReplaceTempView(\"hudi_trips_incremental\")\n",
    "\n",
    "spark.sql(\"select `_hoodie_commit_time`, uuid, fare, begin_lon, begin_lat, ts from  hudi_trips_incremental where fare > 0.0\").show()"
   ]
  },
  {
   "cell_type": "code",
   "execution_count": 80,
   "id": "655cc4c6-075d-45ed-9464-f1f9848d6f41",
   "metadata": {},
   "outputs": [
    {
     "name": "stdout",
     "output_type": "stream",
     "text": [
      "['20230910142736668', '20230910142900300']\n"
     ]
    }
   ],
   "source": [
    "print(commits)"
   ]
  },
  {
   "cell_type": "code",
   "execution_count": 84,
   "id": "c50a1255-f73a-45ca-8a0d-5cbe02027841",
   "metadata": {},
   "outputs": [],
   "source": [
    "from datetime import datetime"
   ]
  },
  {
   "cell_type": "code",
   "execution_count": 89,
   "id": "b7cc5523-b190-4f04-a0bf-01639f050400",
   "metadata": {},
   "outputs": [
    {
     "data": {
      "text/plain": [
       "'20230910144418889736'"
      ]
     },
     "execution_count": 89,
     "metadata": {},
     "output_type": "execute_result"
    }
   ],
   "source": [
    "datetime.utcnow().strftime('%Y%m%d%H%M%S%f')"
   ]
  },
  {
   "cell_type": "code",
   "execution_count": null,
   "id": "9b054a30-b85a-4f3a-b02a-71d2c3ade957",
   "metadata": {},
   "outputs": [],
   "source": []
  }
 ],
 "metadata": {
  "kernelspec": {
   "display_name": "Python 3 (ipykernel)",
   "language": "python",
   "name": "python3"
  },
  "language_info": {
   "codemirror_mode": {
    "name": "ipython",
    "version": 3
   },
   "file_extension": ".py",
   "mimetype": "text/x-python",
   "name": "python",
   "nbconvert_exporter": "python",
   "pygments_lexer": "ipython3",
   "version": "3.9.18"
  }
 },
 "nbformat": 4,
 "nbformat_minor": 5
}
